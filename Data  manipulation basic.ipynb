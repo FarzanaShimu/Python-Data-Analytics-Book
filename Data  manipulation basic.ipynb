{
 "cells": [
  {
   "cell_type": "code",
   "execution_count": 1,
   "id": "df5fa8bb-6d79-4f2c-915d-413374e8f809",
   "metadata": {},
   "outputs": [],
   "source": [
    "import math"
   ]
  },
  {
   "cell_type": "code",
   "execution_count": 3,
   "id": "f3a4110e-0c7e-4038-b90b-a260c1292ddc",
   "metadata": {},
   "outputs": [],
   "source": [
    "dict = {'name':'william','age':25,'city':'london'}\n"
   ]
  },
  {
   "cell_type": "code",
   "execution_count": 6,
   "id": "dd8a11d5-7194-4689-8e87-e1154fa79b93",
   "metadata": {},
   "outputs": [
    {
     "data": {
      "text/plain": [
       "'william'"
      ]
     },
     "execution_count": 6,
     "metadata": {},
     "output_type": "execute_result"
    }
   ],
   "source": [
    "dict[\"name\"]\n"
   ]
  },
  {
   "cell_type": "code",
   "execution_count": 9,
   "id": "cb21acbe-2d6c-46eb-952b-a0351f4a4040",
   "metadata": {},
   "outputs": [
    {
     "name": "stdout",
     "output_type": "stream",
     "text": [
      "name william\n",
      "age 25\n",
      "city london\n"
     ]
    }
   ],
   "source": [
    "for key, value in dict.items():\n",
    "    print(key,value)\n",
    "     "
   ]
  },
  {
   "cell_type": "code",
   "execution_count": 15,
   "id": "e6a79a48-a7a4-452f-98eb-9fb01f9d6b40",
   "metadata": {},
   "outputs": [],
   "source": [
    "items = [ 1,2,3,4,5,6]"
   ]
  },
  {
   "cell_type": "code",
   "execution_count": 16,
   "id": "859cdeef-638d-4441-9fcd-bf091f6226c4",
   "metadata": {},
   "outputs": [],
   "source": [
    "def inc(x): return x+1;"
   ]
  },
  {
   "cell_type": "code",
   "execution_count": 17,
   "id": "fbe8f8f9-84c8-451c-a1cb-2908788e12bd",
   "metadata": {},
   "outputs": [
    {
     "data": {
      "text/plain": [
       "[2, 3, 4, 5, 6, 7]"
      ]
     },
     "execution_count": 17,
     "metadata": {},
     "output_type": "execute_result"
    }
   ],
   "source": [
    "list(map(inc,items))\n"
   ]
  },
  {
   "cell_type": "code",
   "execution_count": null,
   "id": "f91042be-2e12-41c7-aef0-f22d96a13aca",
   "metadata": {},
   "outputs": [],
   "source": []
  }
 ],
 "metadata": {
  "kernelspec": {
   "display_name": "Python 3 (ipykernel)",
   "language": "python",
   "name": "python3"
  },
  "language_info": {
   "codemirror_mode": {
    "name": "ipython",
    "version": 3
   },
   "file_extension": ".py",
   "mimetype": "text/x-python",
   "name": "python",
   "nbconvert_exporter": "python",
   "pygments_lexer": "ipython3",
   "version": "3.8.10"
  }
 },
 "nbformat": 4,
 "nbformat_minor": 5
}
